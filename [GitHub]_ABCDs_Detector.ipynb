{
  "nbformat": 4,
  "nbformat_minor": 0,
  "metadata": {
    "colab": {
      "provenance": [],
      "collapsed_sections": [
        "WV5fR3sotHXp",
        "eI3Gb0zfNpL7",
        "gHyErAx5tUY7",
        "LMPYZuKLgVbS",
        "l7AZUvCjt3We",
        "L_o_IRFKA7LI",
        "VPIpxRqMjj9F",
        "21TqW1lAkDYc",
        "KeiojRj4l1o8",
        "jkGn3EBVkTSa",
        "PagFsABqms5A",
        "tPFHNWf3khJU",
        "xalGkFOMk1n8",
        "klLGpjj9lCX-",
        "i4X5Ty8yulw8"
      ]
    },
    "kernelspec": {
      "name": "python3",
      "display_name": "Python 3"
    },
    "language_info": {
      "name": "python"
    },
    "widgets": {
      "application/vnd.jupyter.widget-state+json": {
        "a902089dc6d1421d903f3cd1e56b8769": {
          "model_module": "@jupyter-widgets/controls",
          "model_name": "TextareaModel",
          "model_module_version": "1.5.0",
          "state": {
            "_dom_classes": [],
            "_model_module": "@jupyter-widgets/controls",
            "_model_module_version": "1.5.0",
            "_model_name": "TextareaModel",
            "_view_count": null,
            "_view_module": "@jupyter-widgets/controls",
            "_view_module_version": "1.5.0",
            "_view_name": "TextareaView",
            "continuous_update": true,
            "description": "Videos:",
            "description_tooltip": null,
            "disabled": false,
            "layout": "IPY_MODEL_37cb545dc4b74b2aa09541ded82c087a",
            "placeholder": "Enter list of video URIs here (one per line or use commas)...",
            "rows": null,
            "style": "IPY_MODEL_347372d2fc164684b46150109f5c2a3c",
            "value": "gs://shape-shifters/Test/Google/videos/12345_google_pixel_portfolio.mp4"
          }
        },
        "37cb545dc4b74b2aa09541ded82c087a": {
          "model_module": "@jupyter-widgets/base",
          "model_name": "LayoutModel",
          "model_module_version": "1.2.0",
          "state": {
            "_model_module": "@jupyter-widgets/base",
            "_model_module_version": "1.2.0",
            "_model_name": "LayoutModel",
            "_view_count": null,
            "_view_module": "@jupyter-widgets/base",
            "_view_module_version": "1.2.0",
            "_view_name": "LayoutView",
            "align_content": null,
            "align_items": null,
            "align_self": null,
            "border": null,
            "bottom": null,
            "display": null,
            "flex": null,
            "flex_flow": null,
            "grid_area": null,
            "grid_auto_columns": null,
            "grid_auto_flow": null,
            "grid_auto_rows": null,
            "grid_column": null,
            "grid_gap": null,
            "grid_row": null,
            "grid_template_areas": null,
            "grid_template_columns": null,
            "grid_template_rows": null,
            "height": "200px",
            "justify_content": null,
            "justify_items": null,
            "left": null,
            "margin": null,
            "max_height": null,
            "max_width": null,
            "min_height": null,
            "min_width": null,
            "object_fit": null,
            "object_position": null,
            "order": null,
            "overflow": null,
            "overflow_x": null,
            "overflow_y": null,
            "padding": null,
            "right": null,
            "top": null,
            "visibility": null,
            "width": "90%"
          }
        },
        "347372d2fc164684b46150109f5c2a3c": {
          "model_module": "@jupyter-widgets/controls",
          "model_name": "DescriptionStyleModel",
          "model_module_version": "1.5.0",
          "state": {
            "_model_module": "@jupyter-widgets/controls",
            "_model_module_version": "1.5.0",
            "_model_name": "DescriptionStyleModel",
            "_view_count": null,
            "_view_module": "@jupyter-widgets/base",
            "_view_module_version": "1.2.0",
            "_view_name": "StyleView",
            "description_width": ""
          }
        },
        "2b895a525066439d9646d8ce62cee2cf": {
          "model_module": "@jupyter-widgets/controls",
          "model_name": "ButtonModel",
          "model_module_version": "1.5.0",
          "state": {
            "_dom_classes": [],
            "_model_module": "@jupyter-widgets/controls",
            "_model_module_version": "1.5.0",
            "_model_name": "ButtonModel",
            "_view_count": null,
            "_view_module": "@jupyter-widgets/controls",
            "_view_module_version": "1.5.0",
            "_view_name": "ButtonView",
            "button_style": "success",
            "description": "Load Video URIs",
            "disabled": false,
            "icon": "",
            "layout": "IPY_MODEL_c0d7485c155a48eb9f332044dc747d34",
            "style": "IPY_MODEL_dd3d62b6ff034e2c8f3fafbbaa47901e",
            "tooltip": ""
          }
        },
        "c0d7485c155a48eb9f332044dc747d34": {
          "model_module": "@jupyter-widgets/base",
          "model_name": "LayoutModel",
          "model_module_version": "1.2.0",
          "state": {
            "_model_module": "@jupyter-widgets/base",
            "_model_module_version": "1.2.0",
            "_model_name": "LayoutModel",
            "_view_count": null,
            "_view_module": "@jupyter-widgets/base",
            "_view_module_version": "1.2.0",
            "_view_name": "LayoutView",
            "align_content": null,
            "align_items": null,
            "align_self": null,
            "border": null,
            "bottom": null,
            "display": null,
            "flex": null,
            "flex_flow": null,
            "grid_area": null,
            "grid_auto_columns": null,
            "grid_auto_flow": null,
            "grid_auto_rows": null,
            "grid_column": null,
            "grid_gap": null,
            "grid_row": null,
            "grid_template_areas": null,
            "grid_template_columns": null,
            "grid_template_rows": null,
            "height": null,
            "justify_content": null,
            "justify_items": null,
            "left": null,
            "margin": null,
            "max_height": null,
            "max_width": null,
            "min_height": null,
            "min_width": null,
            "object_fit": null,
            "object_position": null,
            "order": null,
            "overflow": null,
            "overflow_x": null,
            "overflow_y": null,
            "padding": null,
            "right": null,
            "top": null,
            "visibility": null,
            "width": null
          }
        },
        "dd3d62b6ff034e2c8f3fafbbaa47901e": {
          "model_module": "@jupyter-widgets/controls",
          "model_name": "ButtonStyleModel",
          "model_module_version": "1.5.0",
          "state": {
            "_model_module": "@jupyter-widgets/controls",
            "_model_module_version": "1.5.0",
            "_model_name": "ButtonStyleModel",
            "_view_count": null,
            "_view_module": "@jupyter-widgets/base",
            "_view_module_version": "1.2.0",
            "_view_name": "StyleView",
            "button_color": null,
            "font_weight": ""
          }
        }
      }
    }
  },
  "cells": [
    {
      "cell_type": "markdown",
      "source": [
        "```\n",
        "Copyright 2024 Google LLC\n",
        "\n",
        "Licensed under the Apache License, Version 2.0 (the \"License\");\n",
        "you may not use this file except in compliance with the License.\n",
        "You may obtain a copy of the License at\n",
        "\n",
        "    https://www.apache.org/licenses/LICENSE-2.0\n",
        "\n",
        "Unless required by applicable law or agreed to in writing, software\n",
        "distributed under the License is distributed on an \"AS IS\" BASIS,\n",
        "WITHOUT WARRANTIES OR CONDITIONS OF ANY KIND, either express or implied.\n",
        "See the License for the specific language governing permissions and\n",
        "limitations under the License.\n",
        "```\n",
        "\n"
      ],
      "metadata": {
        "id": "mbQ34wkyzuMv"
      }
    },
    {
      "cell_type": "markdown",
      "source": [
        "# ABCDs Detector\n",
        "\n",
        "The ABCDs Detector solution offers a streamlined solution for understanding how video ads align with key metrics within the [YouTube ABCD Framework](https://www.thinkwithgoogle.com/intl/en-emea/future-of-marketing/creativity/youtube-video-ad-best-practices/). Powered by Google AI, the tool leverages a data-driven analysis to automate the ABCD assessment, providing an objective and comprehensive report of adherence across a collection of defined features. By combining **Video** And **LLM** Google AI models, ABCDs Detector automates the evaluation process and delivers comprehensive reports on how well your ads align with the ABCD framework. This empowers you to optimize your YouTube ad campaigns for maximum impact."
      ],
      "metadata": {
        "id": "WV5fR3sotHXp"
      }
    },
    {
      "cell_type": "markdown",
      "source": [
        "## Video Intelligence API (Video)\n",
        "\n",
        "Google AI extracts features and identifies key moments within your video ads. See [Google Video Intelligence API](https://cloud.google.com/video-intelligence?hl=en) documentation.\n",
        "\n",
        "### Features Used\n",
        "  - Label annotations\n",
        "  - Face annotations\n",
        "  - Text annotations\n",
        "  - Object annotations\n",
        "  - People annotations\n",
        "  - Speech annotations\n",
        "  - Shot annotations\n",
        "  - Logo annotations\n",
        "\n",
        "### Cost\n",
        "Prices are per minute. Partial minutes are rounded up to the next full minute. Volume is per month. For more details please check the official [documentation](https://cloud.google.com/video-intelligence/pricing).\n",
        "\n"
      ],
      "metadata": {
        "id": "qDLbAgObvWGv"
      }
    },
    {
      "cell_type": "markdown",
      "source": [
        "## Gemini Pro (LLM)\n",
        "\n",
        "LLMs are used to assess features against YouTube's ABCD framework rubrics. This enables the detector to \"ask questions\" and determine if the ad adheres to each rubric.  See [Vertex AI](https://cloud.google.com/vertex-ai) documentation.\n",
        "\n",
        "### Prompts\n",
        "\n",
        "ABCDs Detector will perform 2 verifications, first with annotations and then with LLMs. Since the LLM approach is prone to hallucinations, False Positives or False Negatives will be expected. The solution will still require human QA if 100% accuracy is required for the evaluation.\n",
        "\n",
        "ABCDs Detector MVP supports a single video evaluation for the following features/rubrics:\n",
        "  - Quick Pacing\n",
        "  - Quick Pacing (First 5 seconds)\n",
        "  - Dynamic Start\n",
        "  - Supers\n",
        "  - Supers with Audio\n",
        "  - Brand Visuals\n",
        "  - Brand Visuals (First 5 seconds)\n",
        "  - Brand Mention (Speech)\n",
        "  - Brand Mention (Speech) (First 5 seconds)\n",
        "  - Product Visuals\n",
        "  - Product Visuals (First 5 seconds)\n",
        "  - Product Mention (Text)\n",
        "  - Product Mention (Text) (First 5 seconds)\n",
        "  - Product Mention (Speech)\n",
        "  - Product Mention (Speech) (First 5 seconds)\n",
        "  - Visible Face (First 5 seconds)\n",
        "  - Visible Face (Close Up)\n",
        "  - Presence of People\n",
        "  - Presence of People (First 5 seconds)\n",
        "  - Overall Pacing\n",
        "  - Audio Speech Early\n",
        "  - Call To Action (Text)\n",
        "  - Call To Action (Speech)\n",
        "\n",
        "### Cost\n",
        "With the Multimodal models in Vertex AI, you can input either text or media (images, video). Text input is charged by every 1,000 characters of input (prompt) and every 1,000 characters of output (response). Characters are counted by UTF-8 code points and white space is excluded from the count. Prediction requests that lead to filtered responses are charged for the input only. At the end of each billing cycle, fractions of one cent ($0.01) are rounded to one cent. Media input is charged per image or per second (video). For more details please check the official documentation: https://cloud.google.com/vertex-ai/generative-ai/pricing\n"
      ],
      "metadata": {
        "id": "eCRbyHkLt4Di"
      }
    },
    {
      "cell_type": "markdown",
      "source": [
        "# Requirements\n",
        "Please esure you have access to all of the following before starting:\n",
        "* [Google Cloud Project](https://cloud.google.com) with enabled APIs:\n",
        "    * [Video Intelligence API](https://console.cloud.google.com/marketplace/product/google/videointelligence.googleapis.com)\n",
        "    * [Vertex AI API](https://console.cloud.google.com/marketplace/product/google/aiplatform.googleapis.com)\n",
        "    * [Knowledge Graph API](https://console.cloud.google.com/marketplace/product/google/kgsearch.googleapis.com)\n",
        "    * [Cloud Storage API](https://console.cloud.google.com/marketplace/product/google/storage.googleapis.com)\n",
        "* [API Key](https://cloud.google.com/docs/authentication/api-keys) provisioned.\n",
        "* [Project Billing](https://cloud.google.google.com/billing/) enabled.\n",
        "* Python libraries:\n",
        "    * `google-cloud-videointelligence`\n",
        "    * `google-cloud-aiplatform`"
      ],
      "metadata": {
        "id": "e7rvNc74z-b5"
      }
    },
    {
      "cell_type": "markdown",
      "source": [
        "# Instructions\n",
        "Please follow the steps below before executing the ABCDs Detector solution. Every **[VARIABLE]** is a parameter you can configure in the **Define ABCDs Detector Parameters** section.\n",
        "\n",
        "1. Store your videos on [Google Cloud Storage](https://console.cloud.google.com/storage/browser).\n",
        "  * **[BUCKET_NAME]** - the place where this tool will store annotation data under **ABCD** folder. Clear this to redo annotations.\n",
        "  * **[VIDEO_URIS]** - a list of video URIs that will be processed, can be any path but should match brand information.\n",
        "\n",
        "1. Make sure the requirements are met:\n",
        "  * Enable APIs:\n",
        "    * [Video Intelligence API](https://console.cloud.google.com/marketplace/product/google/videointelligence.googleapis.com)\n",
        "    * [Vertex AI API](https://console.cloud.google.com/marketplace/product/google/aiplatform.googleapis.com)\n",
        "    * [Knowledge Graph API](https://console.cloud.google.com/marketplace/product/google/kgsearch.googleapis.com)\n",
        "    * [Cloud Storage API](https://console.cloud.google.com/marketplace/product/google/storage.googleapis.com)\n",
        "  * Provision [An API Key](https://cloud.google.com/docs/authentication/api-keys):\n",
        "    1. Visit [Credentials Page](https://cloud.console.google.com/apis/credentials).\n",
        "    1. Create a **New API Key** and copy it into **[KNOWLEDGE_GRAPH_API_KEY]** below.\n",
        "    1. We recommend editing and restricting the key to the above APIs.\n",
        "\n",
        "1. Define all the parameters.\n",
        "  * Required:\n",
        "    * Google Cloud Project Details\n",
        "    * Brand And Product Details\n",
        "  * Optional\n",
        "    * Solution Setup\n",
        "    * ABCD Framework Details\n",
        "    * LLM Configuration\n",
        "\n",
        "1. Run all of the steps in sequence.\n",
        "  * Some steps do not produce output, they only define functions.\n",
        "  * If a step asks you to **Restart Runtime**, do so.\n",
        "  * If a step displays an error, stop and debug it. Debug the following:\n",
        "    * APIs are enabled.\n",
        "    * Storage bucket is correctly configured.\n",
        "    * The video is the correct size.\n",
        "    * API Key has correct restrictions.\n",
        "    * Previous code sections completed.\n",
        "    * Select _Runtime > Reset Session and Run All_ as a last resort.\n",
        "  * The **Run Bulk ABCDs Detector** produces the video analysis.\n",
        "\n",
        "1. For questions, please reach out to: abcds-detector@google.com"
      ],
      "metadata": {
        "id": "XHqQskKjxtEk"
      }
    },
    {
      "cell_type": "markdown",
      "source": [
        "# Install ABCD Detector Code"
      ],
      "metadata": {
        "id": "m-VVH3V36y8y"
      }
    },
    {
      "cell_type": "code",
      "source": [
        "!git clone --branch paul_changes https://github.com/google-marketing-solutions/abcds-detector\n",
        "!python3 -m pip install -r \"abcds-detector/requirements.txt\"\n",
        "%cd /content/abcds-detector"
      ],
      "metadata": {
        "id": "3KlVPryttrZr"
      },
      "execution_count": null,
      "outputs": []
    },
    {
      "cell_type": "markdown",
      "source": [
        "# Define ABCDs Detector Parameters"
      ],
      "metadata": {
        "id": "m-VVH3V36y8w"
      }
    },
    {
      "cell_type": "code",
      "source": [
        "#!/usr/bin/env python3\n",
        "\n",
        "###########################################################################\n",
        "#\n",
        "#  Copyright 2024 Google LLC\n",
        "#\n",
        "#  Licensed under the Apache License, Version 2.0 (the \"License\");\n",
        "#  you may not use this file except in compliance with the License.\n",
        "#  You may obtain a copy of the License at\n",
        "#\n",
        "#      https://www.apache.org/licenses/LICENSE-2.0\n",
        "#\n",
        "#  Unless required by applicable law or agreed to in writing, software\n",
        "#  distributed under the License is distributed on an \"AS IS\" BASIS,\n",
        "#  WITHOUT WARRANTIES OR CONDITIONS OF ANY KIND, either express or implied.\n",
        "#  See the License for the specific language governing permissions and\n",
        "#  limitations under the License.\n",
        "#\n",
        "###########################################################################\n",
        "\n",
        "import input_parameters\n",
        "\n",
        "\"\"\"Module that defines the colab parameters\"\"\"\n",
        "\n",
        "# @markdown ### Google Cloud Project Details\n",
        "\n",
        "input_parameters.PROJECT_ID = \"\" # @param {type:\"string\"}\n",
        "input_parameters.BUCKET_NAME = \"\" # @param {type:\"string\"}\n",
        "input_parameters.ANNOTATION_PATH = f\"gs://{input_parameters.BUCKET_NAME}/ABCD/\"\n",
        "\n",
        "input_parameters.VIDEO_URIS = [\n",
        "  \"gs://cloud-samples-data/generative-ai/video/pixel8.mp4\",\n",
        "] # use helpers/input_helper.py to load this\n",
        "\n",
        "# @markdown ### Solution Setup\n",
        "\n",
        "input_parameters.VIDEO_SIZE_LIMIT_MB = 40  # @param {type:\"number\"}\n",
        "input_parameters.VERBOSE = True  # @param {type:\"boolean\"}\n",
        "input_parameters.use_llms = True  # @param {type:\"boolean\"}\n",
        "input_parameters.use_annotations = True # @param {type:\"boolean\"}\n",
        "input_parameters.ASSESSMENT_FILE = \"results.json\" # @param {type:\"string\", placeholder:\"optional local file to write to\"}\n",
        "input_parameters.TEST_RESULTS = []\n",
        "\n",
        "# @markdown #### Knowledge Graph API Configuration\n",
        "\n",
        "input_parameters.KNOWLEDGE_GRAPH_API_KEY = \"\"  # @param {type:\"string\"}\n",
        "\n",
        "# @markdown ### Brand and Product Details\n",
        "\n",
        "input_parameters.brand_name = \"Google\"  # @param {type:\"string\"}\n",
        "input_parameters.brand_variations_str = \"google\"  # @param {type:\"string\"}\n",
        "input_parameters.branded_products_str = \"Google pixel, Google pixel buds, Google pixel watch\"  # @param {type:\"string\"}\n",
        "input_parameters.branded_products_categories_str = \"phone, watch, buds\"  # @param {type:\"string\"}\n",
        "input_parameters.branded_call_to_actions_str = \"buy it!\"  # @param {type:\"string\"}\n",
        "\n",
        "# @markdown ### ABCD Assessment Thresholds\n",
        "input_parameters.early_time_seconds = 5\n",
        "input_parameters.confidence_threshold = 0.5  # @param {type:\"number\"}\n",
        "input_parameters.face_surface_threshold = 0.15  # @param {type:\"number\"}\n",
        "input_parameters.logo_size_threshold = 3.5  # @param {type:\"number\"}\n",
        "input_parameters.avg_shot_duration_seconds = 2  # @param {type:\"number\"}\n",
        "input_parameters.dynamic_cutoff_ms = 3000  # @param {type:\"number\"}\n",
        "\n",
        "\n",
        "# @markdown ### LLM Configuration\n",
        "\n",
        "input_parameters.GEMINI_PRO_VISION = \"gemini-1.0-pro-vision-001\"  # @param {type:\"string\"}\n",
        "input_parameters.GEMINI_PRO = \"gemini-1.5-pro-preview-0409\"  # @param {type:\"string\"}\n",
        "input_parameters.llm_location = \"us-central1\"  # @param {type:\"string\"}\n",
        "input_parameters.max_output_tokens = 8192  # @param {type:\"number\"}\n",
        "input_parameters.temperature = 1  # @param {type:\"number\"}\n",
        "input_parameters.top_p = 0.95  # @param {type:\"number\"}\n",
        "input_parameters.top_k = 32  # @param {type:\"number\"}\n",
        "\n",
        "input_parameters.brand_variations = input_parameters.convert_string_to_list(input_parameters.brand_variations_str)\n",
        "input_parameters.brand_variations.append(input_parameters.brand_name)\n",
        "input_parameters.branded_products = input_parameters.convert_string_to_list(input_parameters.branded_products_str)\n",
        "input_parameters.branded_products_categories = input_parameters.convert_string_to_list(input_parameters.branded_products_categories_str)\n",
        "input_parameters.branded_call_to_actions = input_parameters.convert_string_to_list(input_parameters.branded_call_to_actions_str)\n",
        "\n",
        "input_parameters.llm_generation_config = {\n",
        "    \"max_output_tokens\": input_parameters.max_output_tokens,\n",
        "    \"temperature\": input_parameters.temperature,\n",
        "    \"top_p\": input_parameters.top_p,\n",
        "    \"top_k\": input_parameters.top_k,\n",
        "}\n",
        "\n",
        "input_parameters.context_and_examples = \"\"\"Only base your answers strictly on what information is available in the video attached.\n",
        "Do not make up any information that is not part of the video.\n",
        "Explain in a very detailed way the reasoning behind your answer.\n",
        "Please present the extracted information in a VALID JSON format like this:\n",
        "{\n",
        "    \"feature_detected\": \"True/False\",\n",
        "    \"explanation\": \"...\"\n",
        "}\n",
        "\"\"\""
      ],
      "metadata": {
        "id": "myojeXOC0UYJ",
        "cellView": "form"
      },
      "execution_count": 52,
      "outputs": []
    },
    {
      "cell_type": "code",
      "source": [
        "import ipywidgets as widgets\n",
        "from IPython.display import display\n",
        "\n",
        "videos_textarea = widgets.Textarea(\n",
        "  value='\\n'.join(input_parameters.VIDEO_URIS),\n",
        "  placeholder='Enter list of video URIs here (one per line or use commas)...',\n",
        "  description='Videos:',\n",
        "  layout=widgets.Layout(width='90%', height='200px')\n",
        ")\n",
        "\n",
        "# Create a button widget\n",
        "videos_button = widgets.Button(\n",
        "  description='Load Video URIs',\n",
        "  button_style='success'\n",
        ")\n",
        "\n",
        "def videos_load(button):\n",
        "  input_parameters.VIDEO_URIS = [uri.strip() for uri in videos_textarea.value.replace(',', '\\n').split('\\n')]\n",
        "  print('\\nLOADED!\\n')\n",
        "\n",
        "videos_button.on_click(videos_load)\n",
        "display(videos_textarea, videos_button)"
      ],
      "metadata": {
        "colab": {
          "base_uri": "https://localhost:8080/",
          "height": 253,
          "referenced_widgets": [
            "a902089dc6d1421d903f3cd1e56b8769",
            "37cb545dc4b74b2aa09541ded82c087a",
            "347372d2fc164684b46150109f5c2a3c",
            "2b895a525066439d9646d8ce62cee2cf",
            "c0d7485c155a48eb9f332044dc747d34",
            "dd3d62b6ff034e2c8f3fafbbaa47901e"
          ]
        },
        "id": "8QYDMXFj1EJK",
        "outputId": "abae4380-5479-4a8d-a1fb-fc891d8149f8"
      },
      "execution_count": 58,
      "outputs": [
        {
          "output_type": "display_data",
          "data": {
            "text/plain": [
              "Textarea(value='gs://shape-shifters/Test/Google/videos/12345_google_pixel_portfolio.mp4', description='Videos:…"
            ],
            "application/vnd.jupyter.widget-view+json": {
              "version_major": 2,
              "version_minor": 0,
              "model_id": "a902089dc6d1421d903f3cd1e56b8769"
            }
          },
          "metadata": {}
        },
        {
          "output_type": "display_data",
          "data": {
            "text/plain": [
              "Button(button_style='success', description='Load Video URIs', style=ButtonStyle())"
            ],
            "application/vnd.jupyter.widget-view+json": {
              "version_major": 2,
              "version_minor": 0,
              "model_id": "2b895a525066439d9646d8ce62cee2cf"
            }
          },
          "metadata": {}
        }
      ]
    },
    {
      "cell_type": "markdown",
      "source": [
        "# Authenticate"
      ],
      "metadata": {
        "id": "fz86-SgmRBc7"
      }
    },
    {
      "cell_type": "code",
      "source": [
        "from google.colab import auth\n",
        "auth.authenticate_user(project_id=input_parameters.PROJECT_ID)"
      ],
      "metadata": {
        "id": "Ovcu5_OXGHy_"
      },
      "execution_count": 4,
      "outputs": []
    },
    {
      "cell_type": "markdown",
      "source": [
        "# Run ABCDs Detector"
      ],
      "metadata": {
        "id": "pg9ZT-CERKzg"
      }
    },
    {
      "cell_type": "code",
      "source": [
        "from main import execute_abcd_detector\n",
        "execute_abcd_detector()"
      ],
      "metadata": {
        "collapsed": true,
        "id": "0-92Uo3Ova_g"
      },
      "execution_count": null,
      "outputs": []
    }
  ]
}
