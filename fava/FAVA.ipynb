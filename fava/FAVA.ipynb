{
  "nbformat": 4,
  "nbformat_minor": 0,
  "metadata": {
    "colab": {
      "provenance": [],
      "collapsed_sections": [
        "WV5fR3sotHXp"
      ]
    },
    "kernelspec": {
      "name": "python3",
      "display_name": "Python 3"
    },
    "language_info": {
      "name": "python"
    }
  },
  "cells": [
    {
      "cell_type": "markdown",
      "source": [
        "Copyright 2024 Google LLC\n",
        "\n",
        "Licensed under the Apache License, Version 2.0 (the \"License\");\n",
        "you may not use this file except in compliance with the License.\n",
        "You may obtain a copy of the License at\n",
        "\n",
        "    https://www.apache.org/licenses/LICENSE-2.0\n",
        "\n",
        "Unless required by applicable law or agreed to in writing, software\n",
        "distributed under the License is distributed on an \"AS IS\" BASIS,\n",
        "WITHOUT WARRANTIES OR CONDITIONS OF ANY KIND, either express or implied.\n",
        "See the License for the specific language governing permissions and\n",
        "limitations under the License.\n",
        "\n"
      ],
      "metadata": {
        "id": "mbQ34wkyzuMv"
      }
    },
    {
      "cell_type": "markdown",
      "source": [
        "# FAVA\n",
        "\n",
        "This project provides a framework for analyzing video content using Google's Gemini Flash Model, designed to be scalable and user-friendly for marketing teams. It also incorporates a dashboard that helps evaluate the prompts against manually tagged (requires user tagging) videos.\n",
        "\n",
        "Please visit the [GitHub Repository](https://github.com/google-marketing-solutions/abcds-detector/tree/paul_changes/fava) for all documentation."
      ],
      "metadata": {
        "id": "WV5fR3sotHXp"
      }
    },
    {
      "cell_type": "markdown",
      "source": [
        "# Install BQFlow Dependency"
      ],
      "metadata": {
        "id": "5xxx_CTpkDzr"
      }
    },
    {
      "cell_type": "code",
      "source": [
        "!git clone https://github.com/google/bqflow\n",
        "!python3 -m pip install -r bqflow/requirements.txt\n",
        "%env PYTHONPATH=$env/python:/content/bqflow"
      ],
      "metadata": {
        "id": "xwIWWguIkG7r"
      },
      "execution_count": null,
      "outputs": []
    },
    {
      "cell_type": "markdown",
      "source": [
        "* If you are using a service credential upload the JSON to **/content/service.json** using the folder icon on the left.\n",
        "* SKIP THE NEXT STEP if you are using a service credential.\n",
        "* To get a user credential run the following code which will tell you how to get a **client.json**."
      ],
      "metadata": {
        "id": "rAm-xUeAkwmh"
      }
    },
    {
      "cell_type": "code",
      "source": [
        "!python bqflow/auth.py -h"
      ],
      "metadata": {
        "id": "aHjoyXhzki4x"
      },
      "execution_count": null,
      "outputs": []
    },
    {
      "cell_type": "markdown",
      "source": [
        "* SKIP THE NEXT STEP if you are using a service credential.\n",
        "* Once you have the **client.json** upload it using the **folder icon** on the left to **/content/client.json**.\n",
        "* A **user.json** will be generated for you."
      ],
      "metadata": {
        "id": "qNbJLCS0lPsN"
      }
    },
    {
      "cell_type": "code",
      "source": [
        "!python bqflow/auth.py -c /content/client.json -u /content/user.json"
      ],
      "metadata": {
        "id": "_LL5dx94knUG"
      },
      "execution_count": null,
      "outputs": []
    },
    {
      "cell_type": "markdown",
      "source": [
        "# Install FAVA Code"
      ],
      "metadata": {
        "id": "m-VVH3V36y8y"
      }
    },
    {
      "cell_type": "code",
      "source": [
        "!git clone https://github.com/google-marketing-solutions/abcds-detector\n",
        "!python3 -m pip install -r \"abcds-detector/requirements.txt\""
      ],
      "metadata": {
        "id": "3KlVPryttrZr"
      },
      "execution_count": null,
      "outputs": []
    },
    {
      "cell_type": "markdown",
      "source": [
        "# Run FAVA\n",
        "* Open the **/content/abcds-detector/fava/google_pixel.json** file using the folder icon on the left.\n",
        "* Edit the prompts and video lists in the file, it will be automatically saved.\n",
        "* Run the prompts and connect the [Looker Studio Dashboard](https://lookerstudio.google.com/c/u/0/reporting/e31cdc17-8377-42f5-a9ba-cee27202fcc4/) to see scores."
      ],
      "metadata": {
        "id": "pg9ZT-CERKzg"
      }
    },
    {
      "cell_type": "code",
      "source": [
        "!python /content/abcds-detector/fava/main.py /content/abcds-detector/fava/google_pixel.json -u /content/user.json -p gtech-kenjora -v"
      ],
      "metadata": {
        "collapsed": true,
        "id": "0-92Uo3Ova_g"
      },
      "execution_count": null,
      "outputs": []
    }
  ]
}
